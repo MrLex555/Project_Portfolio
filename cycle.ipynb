{
 "cells": [
  {
   "cell_type": "code",
   "execution_count": 1,
   "id": "ed957d15",
   "metadata": {},
   "outputs": [],
   "source": [
    "import time"
   ]
  },
  {
   "cell_type": "code",
   "execution_count": 2,
   "id": "a58fd946",
   "metadata": {},
   "outputs": [],
   "source": [
    "def procedure():\n",
    "    print(time.asctime())"
   ]
  },
  {
   "cell_type": "code",
   "execution_count": 3,
   "id": "4269712d",
   "metadata": {},
   "outputs": [],
   "source": [
    "def cycle_breaker(triger):\n",
    "    if triger > 5:\n",
    "        print('Tme to break the cycle')\n",
    "        return True"
   ]
  },
  {
   "cell_type": "code",
   "execution_count": 4,
   "id": "303f9207",
   "metadata": {},
   "outputs": [
    {
     "name": "stdout",
     "output_type": "stream",
     "text": [
      "Tue Nov  2 10:42:14 2021\n",
      "Tue Nov  2 10:42:15 2021\n",
      "Tue Nov  2 10:42:16 2021\n",
      "Tue Nov  2 10:42:17 2021\n",
      "Tue Nov  2 10:42:18 2021\n",
      "Tue Nov  2 10:42:19 2021\n",
      "Tme to break the cycle\n"
     ]
    }
   ],
   "source": [
    "break_triger = 0\n",
    "while True:\n",
    "    break_triger += 1\n",
    "    procedure()\n",
    "    if cycle_breaker(break_triger):\n",
    "        break\n",
    "    time.sleep(1)"
   ]
  }
 ],
 "metadata": {
  "kernelspec": {
   "display_name": "Python 3 (ipykernel)",
   "language": "python",
   "name": "python3"
  },
  "language_info": {
   "codemirror_mode": {
    "name": "ipython",
    "version": 3
   },
   "file_extension": ".py",
   "mimetype": "text/x-python",
   "name": "python",
   "nbconvert_exporter": "python",
   "pygments_lexer": "ipython3",
   "version": "3.8.11"
  }
 },
 "nbformat": 4,
 "nbformat_minor": 5
}
